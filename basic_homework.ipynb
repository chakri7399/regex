{
 "cells": [
  {
   "cell_type": "markdown",
   "metadata": {},
   "source": [
    "Submitted by : Peddinti Vishnu chakradhar Reddy"
   ]
  },
  {
   "cell_type": "markdown",
   "metadata": {},
   "source": [
    "# Basic Regex Homework"
   ]
  },
  {
   "cell_type": "markdown",
   "metadata": {},
   "source": [
    "## Homework 1: FAA tower closures\n",
    "\n",
    "A list of FAA tower closures has been copied from a [PDF](http://www.faa.gov/news/media/fct_closed.pdf) into the file **`faa.txt`**, which is stored in the **`data`** directory of the zip file."
   ]
  },
  {
   "cell_type": "code",
   "execution_count": 2,
   "metadata": {
    "collapsed": true
   },
   "outputs": [],
   "source": [
    "# read the file into a single string\n",
    "with open('../data/faa.txt') as f:\n",
    "    data = f.read()"
   ]
  },
  {
   "cell_type": "code",
   "execution_count": 3,
   "metadata": {
    "collapsed": true
   },
   "outputs": [
    {
     "data": {
      "text/plain": [
       "'FAA Contract Tower Closure List\\n(149 FCTs)\\n3-22-2013\\nLOC\\nID Facility Name City State\\nDHN DOTHAN RGNL DOTHAN AL\\nTCL TUSCALOOSA RGNL TUSCALOOSA AL\\nFYV DRAKE FIELD FAYETTEVILLE AR\\nTXK TEXARKANA RGNL-WEBB FIELD TEXARKANA AR\\nGEU GLENDALE MUNI GLENDALE AZ\\nGYR PHOENIX GOODYEAR GOODYEAR AZ\\nIFP LAUGHLIN/BULLHEAD INTL BULLHEAD CITY AZ\\nRYN RYAN FIELD TUCSON AZ\\nFUL FULLERTON MUNI FULLERTON CA\\nMER CASTLE ATWATER CA\\nOXR OXNARD OXNARD CA\\nRAL RIVERSIDE MUNI RIVERSIDE CA\\nRNM RAMONA RAMONA CA\\nSAC SACRAMENTO EXECUTIVE SACRAMENTO CA\\nSDM BROWN FIELD MUNI SAN DIEGO CA\\nSNS SALINAS MUNI SALINAS CA\\nVCV SOUTHERN CALIFORNIA LOGISTICS VICTORVILLE CA\\nWHP WHITEMAN LOS ANGELES CA\\nWJF GENERAL WM J FOX AIRFIELD LANCASTER CA\\nBDR IGOR I SIKORSKY MEMORIAL BRIDGEPORT CT\\nDXR DANBURY MUNI DANBURY CT\\nGON GROTON-NEW LONDON GROTON (NEW LONDON) CT\\nHFD HARTFORD-BRAINARD HARTFORD CT\\nHVN TWEED-NEW HAVEN NEW HAVEN CT\\nOXC WATERBURY-OXFORD OXFORD CT\\nAPF NAPLES MUNI NAPLES FL\\nBCT BOCA RATON BOCA RATON FL\\nEVB NEW SMYRNA BEACH MUNI NEW SMYRNA BEACH FL\\nFMY PAGE FIELD FORT MYERS FL\\nHWO NORTH PERRY HOLLYWOOD FL\\nLAL LAKELAND LINDER RGNL LAKELAND FL\\nLEE LEESBURG INTL LEESBURG FL\\nOCF OCALA INTL-JIM TAYLOR FIELD OCALA FL\\nOMN ORMOND BEACH MUNI ORMOND BEACH FL\\nPGD PUNTA GORDA PUNTA GORDA FL\\nSGJ NORTHEAST FLORIDA RGNL ST AUGUSTINE FL\\nSPG ALBERT WHITTED ST PETERSBURG FL\\nSUA WITHAM FIELD STUART FL\\nTIX SPACE COAST RGNL TITUSVILLE FL\\nABY SOUTHWEST GEORGIA RGNL ALBANY GA\\nAHN ATHENS/BEN EPPS ATHENS GA\\nLZU GWINNETT COUNTY - BRISCOE FIELD LAWRENCEVILLE GA\\nMCN MIDDLE GEORGIA RGNL MACON GA\\nRYY COBB COUNTY- MCCOLLUM FIELD ATLANTA GA\\nDBQ DUBUQUE RGNL DUBUQUE IA\\nIDA IDAHO FALLS RGNL IDAHO FALLS ID\\nLWS LEWISTON-NEZ PERCE COUNTY LEWISTON ID\\nPage 1 of 4\\nFAA Contract Tower Closure List\\n(149 FCTs)\\n3-22-2013\\nLOC\\nID Facility Name City State\\nPIH POCATELLO RGNL POCATELLO ID\\nSUN FRIEDMAN MEMORIAL HAILEY ID\\nALN ST LOUIS RGNL ALTON/ST LOUIS IL\\nBMI CENTRAL IL RGNL ARPT AT BLOOMINGTON- NORMAL BLOOMINGTON/ NORMAL IL\\nDEC DECATUR DECATUR IL\\nMDH SOUTHERN ILLINOIS CARBONDALE/ MURPHYSBORO IL\\nUGN WAUKEGAN RGNL CHICAGO/ WAUKEGAN IL\\nBAK COLUMBUS MUNI COLUMBUS IN\\nGYY GARY/CHICAGO INTL GARY IN\\nHUT HUTCHINSON MUNI HUTCHINSON KS\\nIXD NEW CENTURY AIRCENTER OLATHE KS\\nMHK MANHATTAN RGNL MANHATTAN KS\\nOJC JOHNSON COUNTY EXECUTIVE OLATHE KS\\nTOP PHILIP BILLARD MUNI TOPEKA KS\\nOWB OWENSBORO-DAVIESS COUNTY OWENSBORO KY\\nPAH BARKLEY RGNL PADUCAH KY\\nDTN SHREVEPORT DOWNTOWN SHREVEPORT LA\\nBVY BEVERLY MUNI BEVERLY MA\\nEWB NEW BEDFORD RGNL NEW BEDFORD MA\\nLWM LAWRENCE MUNI LAWRENCE MA\\nORH WORCESTER RGNL WORCESTER MA\\nOWD NORWOOD MEMORIAL NORWOOD MA\\nESN EASTON/NEWNAM FIELD EASTON MD\\nFDK FREDERICK MUNI FREDERICK MD\\nHGR HAGERSTOWN RGNL- RICHARD A HENSON FLD HAGERSTOWN MD\\nMTN MARTIN STATE BALTIMORE MD\\nSBY SALISBURY-OCEAN CITY WICOMICO RGNL SALISBURY MD\\nBTL W K KELLOGG BATTLE CREEK MI\\nDET COLEMAN A. YOUNG MUNI DETROIT MI\\nSAW SAWYER INTL MARQUETTE MI\\nANE ANOKA COUNTY-BLAINE ARPT(JANES FIELD) MINNEAPOLIS MN\\nSTC ST CLOUD RGNL ST CLOUD MN\\nBBG BRANSON BRANSON MO\\nCOU COLUMBIA RGNL COLUMBIA MO\\nGLH MID DELTA RGNL GREENVILLE MS\\nHKS HAWKINS FIELD JACKSON MS\\nHSA STENNIS INTL (HSA) BAY ST LOUIS MS\\nOLV OLIVE BRANCH OLIVE BRANCH MS\\nTUP TUPELO RGNL TUPELO MS\\nGPI GLACIER PARK INTL KALISPELL MT\\nEWN COASTAL CAROLINA REGIONAL NEW BERN NC\\nHKY HICKORY RGNL HICKORY NC\\nINT SMITH REYNOLDS WINSTON SALEM NC\\nISO KINSTON RGNL JETPORT AT STALLINGS FLD KINSTON NC\\nJQF CONCORD RGNL CONCORD NC\\nASH BOIRE FIELD NASHUA NH\\nTTN TRENTON MERCER TRENTON NJ\\nPage 2 of 4\\nFAA Contract Tower Closure List\\n(149 FCTs)\\n3-22-2013\\nLOC\\nID Facility Name City State\\nAEG DOUBLE EAGLE II ALBUQUERQUE NM\\nSAF SANTA FE MUNI SANTA FE NM\\nITH ITHACA TOMPKINS RGNL ITHACA NY\\nRME GRIFFISS INTL ROME NY\\nCGF CUYAHOGA COUNTY CLEVELAND OH\\nOSU OHIO STATE UNIVERSITY COLUMBUS OH\\nTZR BOLTON FIELD COLUMBUS OH\\nLAW LAWTON-FORT SILL RGNL LAWTON OK\\nOUN UNIVERSITY OF OKLAHOMA WESTHEIMER NORMAN OK\\nPWA WILEY POST OKLAHOMA CITY OK\\nSWO STILLWATER RGNL STILLWATER OK\\nOTH SOUTHWEST OREGON RGNL NORTH BEND OR\\nPDT EASTERN OREGON RGNL AT PENDLETON PENDLETON OR\\nSLE MCNARY FLD SALEM OR\\nTTD PORTLAND-TROUTDALE PORTLAND OR\\nCXY CAPITAL CITY HARRISBURG PA\\nLBE ARNOLD PALMER RGNL LATROBE PA\\nLNS LANCASTER LANCASTER PA\\nCRE GRAND STRAND NORTH MYRTLE BEACH SC\\nGYH DONALDSON CENTER GREENVILLE SC\\nHXD HILTON HEAD HILTON HEAD ISLAND SC\\nMKL MC KELLAR-SIPES RGNL JACKSON TN\\nNQA MILLINGTON RGNL JETPORT MILLINGTON TN\\nBAZ NEW BRAUNFELS MUNI NEW BRAUNFELS TX\\nBRO BROWNSVILLE/ SOUTH PADRE ISLAND INTL BROWNSVILLE TX\\nCLL EASTERWOOD FIELD COLLEGE STATION TX\\nCNW TSTC WACO WACO TX\\nCXO LONE STAR EXECUTIVE HOUSTON TX\\nGTU GEORGETOWN MUNI GEORGETOWN TX\\nHYI SAN MARCOS MUNI SAN MARCOS TX\\nRBD DALLAS EXECUTIVE DALLAS TX\\nSGR SUGAR LAND RGNL HOUSTON TX\\nSSF STINSON MUNI SAN ANTONIO TX\\nTKI COLLIN COUNTY RGNL AT MC KINNEY DALLAS TX\\nTYR TYLER POUNDS RGNL TYLER TX\\nVCT VICTORIA RGNL VICTORIA TX\\nOGD OGDEN-HINCKLEY OGDEN UT\\nPVU PROVO MUNI PROVO UT\\nLYH LYNCHBURG RGNL/ PRESTON GLENN FLD LYNCHBURG VA\\nOLM OLYMPIA RGNL OLYMPIA WA\\nRNT RENTON MUNI RENTON WA\\nSFF FELTS FIELD SPOKANE WA\\nTIW TACOMA NARROWS TACOMA WA\\nYKM YAKIMA AIR TERMINAL/ MCALLISTER FIELD YAKIMA WA\\nCWA CENTRAL WISCONSIN MOSINEE WI\\nEAU CHIPPEWA VALLEY RGNL EAU CLAIRE WI\\nENW KENOSHA RGNL KENOSHA WI\\nPage 3 of 4\\nFAA Contract Tower Closure List\\n(149 FCTs)\\n3-22-2013\\nLOC\\nID Facility Name City State\\nJVL SOUTHERN WISCONSIN RGNL JANESVILLE WI\\nLSE LA CROSSE MUNI LA CROSSE WI\\nMWC LAWRENCE J TIMMERMAN MILWAUKEE WI\\nOSH WITTMAN RGNL OSHKOSH WI\\nUES WAUKESHA COUNTY WAUKESHA WI\\nHLG WHEELING OHIO CO WHEELING WV\\nLWB GREENBRIER VALLEY LEWISBURG WV\\nPKB MID-OHIO VALLEY RGNL PARKERSBURG WV\\nPage 4 of 4\\n'"
      ]
     },
     "execution_count": 3,
     "metadata": {},
     "output_type": "execute_result"
    }
   ],
   "source": [
    "# check the number of characters\n",
    "data"
   ]
  },
  {
   "cell_type": "code",
   "execution_count": 4,
   "metadata": {
    "collapsed": true
   },
   "outputs": [
    {
     "name": "stdout",
     "output_type": "stream",
     "text": [
      "FAA Contract Tower Closure List\n",
      "(149 FCTs)\n",
      "3-22-2013\n",
      "LOC\n",
      "ID Facility Name City State\n",
      "DHN DOTHAN RGNL DOTHAN AL\n",
      "TCL TUSCALOOSA RGNL TUSCALOOSA AL\n",
      "FYV DRAKE FIELD FAYETTEVILLE AR\n",
      "TXK TEXARKANA RGNL-WEBB FIELD TEXARKANA AR\n",
      "GEU GLENDALE MUNI GLENDALE AZ\n",
      "GYR PHOENIX GOODYEAR GOODYEAR AZ\n",
      "IFP LAUGHLIN/BULLHEAD INTL BULLHEAD CITY AZ\n",
      "RYN RYAN FIELD TUCSON AZ\n",
      "FUL FULLERTON MUNI FULLERTON CA\n",
      "MER CASTLE ATWATER CA\n",
      "OXR OXNARD OXNARD CA\n",
      "RAL RIVERSIDE MUNI RIVERSIDE CA\n",
      "RNM RAMONA RAMONA CA\n",
      "SAC SACRAMENTO EXECU\n"
     ]
    }
   ],
   "source": [
    "# examine the first 500 characters\n",
    "print(data[0:500])"
   ]
  },
  {
   "cell_type": "code",
   "execution_count": 5,
   "metadata": {
    "collapsed": true
   },
   "outputs": [
    {
     "name": "stdout",
     "output_type": "stream",
     "text": [
      " YAKIMA WA\n",
      "CWA CENTRAL WISCONSIN MOSINEE WI\n",
      "EAU CHIPPEWA VALLEY RGNL EAU CLAIRE WI\n",
      "ENW KENOSHA RGNL KENOSHA WI\n",
      "Page 3 of 4\n",
      "FAA Contract Tower Closure List\n",
      "(149 FCTs)\n",
      "3-22-2013\n",
      "LOC\n",
      "ID Facility Name City State\n",
      "JVL SOUTHERN WISCONSIN RGNL JANESVILLE WI\n",
      "LSE LA CROSSE MUNI LA CROSSE WI\n",
      "MWC LAWRENCE J TIMMERMAN MILWAUKEE WI\n",
      "OSH WITTMAN RGNL OSHKOSH WI\n",
      "UES WAUKESHA COUNTY WAUKESHA WI\n",
      "HLG WHEELING OHIO CO WHEELING WV\n",
      "LWB GREENBRIER VALLEY LEWISBURG WV\n",
      "PKB MID-OHIO VALLEY RGNL PARKERSBURG WV\n",
      "Page 4 of 4\n",
      "\n"
     ]
    }
   ],
   "source": [
    "# examine the last 500 characters\n",
    "print(data[-500:])"
   ]
  },
  {
   "cell_type": "markdown",
   "metadata": {},
   "source": [
    "Your assignment is to **create a list of tuples** containing the **tower IDs** and the **states** they are located in.\n",
    "\n",
    "Here is the **expected output:**\n",
    "\n",
    "> `faa = [('DHN', 'AL'), ('TCL', 'AL'), ..., ('PKB', 'WV')]`"
   ]
  },
  {
   "cell_type": "code",
   "execution_count": 6,
   "metadata": {
    "collapsed": true
   },
   "outputs": [
    {
     "data": {
      "text/plain": [
       "[('TCL', 'AL'),\n",
       " ('FYV', 'AR'),\n",
       " ('TXK', 'AR'),\n",
       " ('GEU', 'AZ'),\n",
       " ('GYR', 'AZ'),\n",
       " ('IFP', 'AZ'),\n",
       " ('RYN', 'AZ'),\n",
       " ('FUL', 'CA'),\n",
       " ('MER', 'CA')]"
      ]
     },
     "execution_count": 6,
     "metadata": {},
     "output_type": "execute_result"
    }
   ],
   "source": [
    "import re\n",
    "re.findall(r'([A-Z][A-Z][A-Z])\\s.+([A-Z][A-Z])',data)[1:10]"
   ]
  },
  {
   "cell_type": "code",
   "execution_count": 7,
   "metadata": {},
   "outputs": [
    {
     "data": {
      "text/plain": [
       "[('DHN', 'AL'),\n",
       " ('TCL', 'AL'),\n",
       " ('FYV', 'AR'),\n",
       " ('TXK', 'AR'),\n",
       " ('GEU', 'AZ'),\n",
       " ('GYR', 'AZ'),\n",
       " ('IFP', 'AZ'),\n",
       " ('RYN', 'AZ'),\n",
       " ('FUL', 'CA'),\n",
       " ('MER', 'CA')]"
      ]
     },
     "execution_count": 7,
     "metadata": {},
     "output_type": "execute_result"
    }
   ],
   "source": [
    "import re\n",
    "re.findall(r'([A-Z]{3})\\s.+([A-Z]{2})',data)[0:10]"
   ]
  },
  {
   "cell_type": "markdown",
   "metadata": {},
   "source": [
    "Explanation:\n",
    "\n",
    "[A-Z][A-Z][A-Z] - matches the upper case letters in the file for three times\n",
    "\\s - matches space\n",
    ".+ - prevents to match new line\n",
    "[A-Z][A-Z] - to match state pattern\n"
   ]
  },
  {
   "cell_type": "markdown",
   "metadata": {},
   "source": [
    "As a **bonus task**, use regular expressions to extract the **number of closures** listed in the second line of the file (149), and then use an **assertion** to check that the number of closures is equal to the length of the `faa` list."
   ]
  },
  {
   "cell_type": "markdown",
   "metadata": {},
   "source": [
    "## Homework 2: Stack Overflow reputation\n",
    "\n",
    "I have downloaded my **Stack Overflow reputation history** into the file **`reputation.txt`**, which is stored in the **`data`** directory of the zip file. (If you are a Stack Overflow user with a reputation of 10 or more, you should be able to [download your own reputation history](http://stackoverflow.com/reputation).)\n",
    "\n",
    "We are only interested in the lines that **begin with two dashes**, such as:\n",
    "\n",
    "> `-- 2012-08-30 rep +5    = 6`\n",
    "\n",
    "That line can be interpreted as follows: \"On 2012-08-30, my reputation increased by 5, bringing my reputation total to 6.\""
   ]
  },
  {
   "cell_type": "markdown",
   "metadata": {},
   "source": [
    "Your assignment is to **create a list of tuples** containing only these dated entries, including the **date**, **reputation change** (regardless of whether it is positive/negative/zero), and **running total**.\n",
    "\n",
    "Here is the **expected output:**\n",
    "\n",
    "> `rep = [('2012-08-30', '+5', '6'), ('2012-12-11', '+10', '16'), ...,  ('2015-10-14', '-1', '317')]`"
   ]
  },
  {
   "cell_type": "markdown",
   "metadata": {},
   "source": [
    "As a **bonus task**, convert this list of tuples into a **pandas DataFrame**. It should have appropriate column names, and the second and third columns should be of type integer (rather than string/object)."
   ]
  },
  {
   "cell_type": "code",
   "execution_count": 8,
   "metadata": {},
   "outputs": [
    {
     "data": {
      "text/plain": [
       "'total votes: 36\\n 2  12201376 (5)\\n-- 2012-08-30 rep +5    = 6         \\n 2  13822612 (10)\\n-- 2012-12-1'"
      ]
     },
     "execution_count": 8,
     "metadata": {},
     "output_type": "execute_result"
    }
   ],
   "source": [
    "with open('../data/reputation.txt') as f:\n",
    "    data = f.read()\n",
    "data[0:100]"
   ]
  },
  {
   "cell_type": "code",
   "execution_count": 43,
   "metadata": {},
   "outputs": [
    {
     "data": {
      "text/plain": [
       "[('2012-08-30', '+5', '6'),\n",
       " ('2012-12-11', '+10', '16'),\n",
       " ('2013-03-20', '+10', '26'),\n",
       " ('2013-12-05', '0', '26'),\n",
       " ('2014-01-25', '0', '26'),\n",
       " ('2014-03-19', '+2', '28'),\n",
       " ('2014-05-11', '+2', '30'),\n",
       " ('2014-05-12', '+12', '42'),\n",
       " ('2014-06-12', '+10', '52'),\n",
       " ('2014-06-26', '+10', '62')]"
      ]
     },
     "execution_count": 43,
     "metadata": {},
     "output_type": "execute_result"
    }
   ],
   "source": [
    "import re\n",
    "re.findall(r'[-]{2}\\s(\\d{4}-\\d{2}-\\d{2})\\srep\\s(\\+?\\d{1,2})\\s+\\=\\s?(\\d+)',data)[0:10]"
   ]
  },
  {
   "cell_type": "code",
   "execution_count": null,
   "metadata": {},
   "outputs": [],
   "source": []
  }
 ],
 "metadata": {
  "kernelspec": {
   "display_name": "Python 3.8.10 64-bit",
   "language": "python",
   "name": "python3"
  },
  "language_info": {
   "codemirror_mode": {
    "name": "ipython",
    "version": 3
   },
   "file_extension": ".py",
   "mimetype": "text/x-python",
   "name": "python",
   "nbconvert_exporter": "python",
   "pygments_lexer": "ipython3",
   "version": "3.8.10"
  },
  "vscode": {
   "interpreter": {
    "hash": "916dbcbb3f70747c44a77c7bcd40155683ae19c65e1c03b4aa3499c5328201f1"
   }
  }
 },
 "nbformat": 4,
 "nbformat_minor": 1
}
